{
 "cells": [
  {
   "cell_type": "code",
   "execution_count": 5,
   "id": "f7050d72-a8f5-4e3d-b9cb-6af22756f07b",
   "metadata": {},
   "outputs": [],
   "source": [
    "import pandas as pd\n",
    "import numpy as np\n",
    "import matplotlib.pyplot as plt\n",
    "import seaborn as sns\n",
    "\n",
    "from sklearn.model_selection import train_test_split, GridSearchCV\n",
    "from sklearn.linear_model import LogisticRegression\n",
    "from sklearn.svm import SVC\n",
    "from sklearn.tree import DecisionTreeClassifier\n",
    "from sklearn.neighbors import KNeighborsClassifier\n",
    "from sklearn import preprocessing\n",
    "from sklearn.metrics import confusion_matrix\n"
   ]
  },
  {
   "cell_type": "code",
   "execution_count": 7,
   "id": "cad03d0d-7f41-4fa0-9d60-c4c9a7222a0d",
   "metadata": {},
   "outputs": [],
   "source": [
    "URL1 = \"https://cf-courses-data.s3.us.cloud-object-storage.appdomain.cloud/IBM-DS0321EN-SkillsNetwork/datasets/dataset_part_2.csv\"\n",
    "URL2 = \"https://cf-courses-data.s3.us.cloud-object-storage.appdomain.cloud/IBM-DS0321EN-SkillsNetwork/datasets/dataset_part_3.csv\"\n",
    "\n",
    "data = pd.read_csv(URL1)\n",
    "X = pd.read_csv(URL2)\n"
   ]
  },
  {
   "cell_type": "code",
   "execution_count": 9,
   "id": "e6173edf-68a7-4543-a1d6-f7c2db8c0c33",
   "metadata": {},
   "outputs": [
    {
     "name": "stdout",
     "output_type": "stream",
     "text": [
      "   FlightNumber        Date BoosterVersion  PayloadMass Orbit    LaunchSite  \\\n",
      "0             1  2010-06-04       Falcon 9  6104.959412   LEO  CCAFS SLC 40   \n",
      "1             2  2012-05-22       Falcon 9   525.000000   LEO  CCAFS SLC 40   \n",
      "2             3  2013-03-01       Falcon 9   677.000000   ISS  CCAFS SLC 40   \n",
      "3             4  2013-09-29       Falcon 9   500.000000    PO   VAFB SLC 4E   \n",
      "4             5  2013-12-03       Falcon 9  3170.000000   GTO  CCAFS SLC 40   \n",
      "\n",
      "       Outcome  Flights  GridFins  Reused   Legs LandingPad  Block  \\\n",
      "0    None None        1     False   False  False        NaN    1.0   \n",
      "1    None None        1     False   False  False        NaN    1.0   \n",
      "2    None None        1     False   False  False        NaN    1.0   \n",
      "3  False Ocean        1     False   False  False        NaN    1.0   \n",
      "4    None None        1     False   False  False        NaN    1.0   \n",
      "\n",
      "   ReusedCount Serial   Longitude   Latitude  Class  \n",
      "0            0  B0003  -80.577366  28.561857      0  \n",
      "1            0  B0005  -80.577366  28.561857      0  \n",
      "2            0  B0007  -80.577366  28.561857      0  \n",
      "3            0  B1003 -120.610829  34.632093      0  \n",
      "4            0  B1004  -80.577366  28.561857      0  \n",
      "   FlightNumber  PayloadMass  Flights  Block  ReusedCount  Orbit_ES-L1  \\\n",
      "0           1.0  6104.959412      1.0    1.0          0.0          0.0   \n",
      "1           2.0   525.000000      1.0    1.0          0.0          0.0   \n",
      "2           3.0   677.000000      1.0    1.0          0.0          0.0   \n",
      "3           4.0   500.000000      1.0    1.0          0.0          0.0   \n",
      "4           5.0  3170.000000      1.0    1.0          0.0          0.0   \n",
      "\n",
      "   Orbit_GEO  Orbit_GTO  Orbit_HEO  Orbit_ISS  ...  Serial_B1058  \\\n",
      "0        0.0        0.0        0.0        0.0  ...           0.0   \n",
      "1        0.0        0.0        0.0        0.0  ...           0.0   \n",
      "2        0.0        0.0        0.0        1.0  ...           0.0   \n",
      "3        0.0        0.0        0.0        0.0  ...           0.0   \n",
      "4        0.0        1.0        0.0        0.0  ...           0.0   \n",
      "\n",
      "   Serial_B1059  Serial_B1060  Serial_B1062  GridFins_False  GridFins_True  \\\n",
      "0           0.0           0.0           0.0             1.0            0.0   \n",
      "1           0.0           0.0           0.0             1.0            0.0   \n",
      "2           0.0           0.0           0.0             1.0            0.0   \n",
      "3           0.0           0.0           0.0             1.0            0.0   \n",
      "4           0.0           0.0           0.0             1.0            0.0   \n",
      "\n",
      "   Reused_False  Reused_True  Legs_False  Legs_True  \n",
      "0           1.0          0.0         1.0        0.0  \n",
      "1           1.0          0.0         1.0        0.0  \n",
      "2           1.0          0.0         1.0        0.0  \n",
      "3           1.0          0.0         1.0        0.0  \n",
      "4           1.0          0.0         1.0        0.0  \n",
      "\n",
      "[5 rows x 83 columns]\n"
     ]
    }
   ],
   "source": [
    "print(data.head())\n",
    "print(X.head())\n"
   ]
  },
  {
   "cell_type": "code",
   "execution_count": null,
   "id": "f9265c00-5dfb-43c7-9b96-8357842c40ee",
   "metadata": {},
   "outputs": [],
   "source": [
    "#1-Create the Target Array"
   ]
  },
  {
   "cell_type": "code",
   "execution_count": 11,
   "id": "798d3766-94a5-4d5d-9301-6c8bea635a26",
   "metadata": {},
   "outputs": [],
   "source": [
    "Y = data['Class'].to_numpy()"
   ]
  },
  {
   "cell_type": "code",
   "execution_count": null,
   "id": "9291cd81-bbbf-43d3-9552-a493745d2d90",
   "metadata": {},
   "outputs": [],
   "source": [
    "#2-Standardize the Features"
   ]
  },
  {
   "cell_type": "code",
   "execution_count": 13,
   "id": "35398ac5-b19a-4e90-8f32-ec741ef6a918",
   "metadata": {},
   "outputs": [],
   "source": [
    "from sklearn.preprocessing import StandardScaler\n",
    "X = StandardScaler().fit_transform(X)"
   ]
  },
  {
   "cell_type": "code",
   "execution_count": 19,
   "id": "fd6d214d-8cba-4b3c-9bb7-16e796a5cfd9",
   "metadata": {},
   "outputs": [],
   "source": [
    "#3-Train/Test Split"
   ]
  },
  {
   "cell_type": "code",
   "execution_count": 17,
   "id": "e41baa54-c3c2-4e2e-9240-73af8147c44f",
   "metadata": {},
   "outputs": [
    {
     "name": "stdout",
     "output_type": "stream",
     "text": [
      "(18, 83)\n"
     ]
    }
   ],
   "source": [
    "X_train, X_test, Y_train, Y_test = train_test_split(\n",
    "    X, Y, test_size=0.2, random_state=2)\n",
    "print(X_test.shape)   # Check the shape of your test set\n"
   ]
  },
  {
   "cell_type": "code",
   "execution_count": 23,
   "id": "f4c0b990-52ab-4210-9700-78ed2893356e",
   "metadata": {},
   "outputs": [],
   "source": [
    "#4-Logistic Regression & GridSearchCV"
   ]
  },
  {
   "cell_type": "code",
   "execution_count": 21,
   "id": "a3140fc2-fb40-4e45-8359-064a4c1ecd69",
   "metadata": {},
   "outputs": [
    {
     "name": "stdout",
     "output_type": "stream",
     "text": [
      "Best Params: {'C': 0.01, 'penalty': 'l2', 'solver': 'lbfgs'}\n",
      "Best Score: 0.8464285714285713\n"
     ]
    }
   ],
   "source": [
    "parameters = {\n",
    "    'C': [0.01, 0.1, 1],\n",
    "    'penalty': ['l2'],\n",
    "    'solver': ['lbfgs']\n",
    "}\n",
    "logreg_cv = GridSearchCV(LogisticRegression(), parameters, cv=10)\n",
    "logreg_cv.fit(X_train, Y_train)\n",
    "print(\"Best Params:\", logreg_cv.best_params_)\n",
    "print(\"Best Score:\", logreg_cv.best_score_)\n"
   ]
  },
  {
   "cell_type": "code",
   "execution_count": 25,
   "id": "a987101a-a670-4fc7-9ae9-e4b7be18dcf8",
   "metadata": {},
   "outputs": [],
   "source": [
    "#5-Accuracy & Confusion Matrix (Logistic Regression)"
   ]
  },
  {
   "cell_type": "code",
   "execution_count": 27,
   "id": "6984a6ad-230c-4232-8a35-1374014b7e2e",
   "metadata": {},
   "outputs": [
    {
     "name": "stdout",
     "output_type": "stream",
     "text": [
      "Test set score: 0.8333333333333334\n"
     ]
    }
   ],
   "source": [
    "print(\"Test set score:\", logreg_cv.score(X_test, Y_test))\n"
   ]
  },
  {
   "cell_type": "code",
   "execution_count": 29,
   "id": "3eea17b8-6cc1-4874-8054-286a8d15fc15",
   "metadata": {},
   "outputs": [
    {
     "data": {
      "image/png": "[encoded data removed]",
      "text/plain": [
       "<Figure size 640x480 with 2 Axes>"
      ]
     },
     "metadata": {},
     "output_type": "display_data"
    }
   ],
   "source": [
    "def plot_confusion_matrix(y_true, y_pred):\n",
    "    cm = confusion_matrix(y_true, y_pred)\n",
    "    sns.heatmap(cm, annot=True, fmt=\"d\", cmap='Blues')\n",
    "    plt.xlabel('Predicted')\n",
    "    plt.ylabel('Actual')\n",
    "    plt.show()\n",
    "\n",
    "yhat_logreg = logreg_cv.predict(X_test)\n",
    "plot_confusion_matrix(Y_test, yhat_logreg)\n"
   ]
  },
  {
   "cell_type": "code",
   "execution_count": 31,
   "id": "5485cae7-848a-457b-9cef-f670a1c8d525",
   "metadata": {},
   "outputs": [],
   "source": [
    "#6-SVM & GridSearchCV"
   ]
  },
  {
   "cell_type": "code",
   "execution_count": 33,
   "id": "8ef1ce69-dbaf-4c9e-97d4-6a6b080e8944",
   "metadata": {},
   "outputs": [
    {
     "name": "stdout",
     "output_type": "stream",
     "text": [
      "Best Params: {'C': 1, 'gamma': 0.1, 'kernel': 'sigmoid'}\n",
      "Best Score: 0.8339285714285714\n"
     ]
    }
   ],
   "source": [
    "parameters = {\n",
    "    'kernel': ['linear', 'rbf', 'poly', 'sigmoid'],\n",
    "    'C': [1, 10],\n",
    "    'gamma': [0.1, 1]\n",
    "}\n",
    "svm_cv = GridSearchCV(SVC(), parameters, cv=10)\n",
    "svm_cv.fit(X_train, Y_train)\n",
    "print(\"Best Params:\", svm_cv.best_params_)\n",
    "print(\"Best Score:\", svm_cv.best_score_)\n"
   ]
  },
  {
   "cell_type": "code",
   "execution_count": 35,
   "id": "195ae2b5-b1a4-48a7-8edb-2a4781040aa2",
   "metadata": {},
   "outputs": [],
   "source": [
    "#7-SVM Accuracy"
   ]
  },
  {
   "cell_type": "code",
   "execution_count": 37,
   "id": "96023850-1869-480b-b5a9-61e632b98078",
   "metadata": {},
   "outputs": [
    {
     "name": "stdout",
     "output_type": "stream",
     "text": [
      "Test set score: 0.8333333333333334\n"
     ]
    },
    {
     "data": {
      "image/png": "[encoded data removed]",
      "text/plain": [
       "<Figure size 640x480 with 2 Axes>"
      ]
     },
     "metadata": {},
     "output_type": "display_data"
    }
   ],
   "source": [
    "print(\"Test set score:\", svm_cv.score(X_test, Y_test))\n",
    "yhat_svm = svm_cv.predict(X_test)\n",
    "plot_confusion_matrix(Y_test, yhat_svm)\n"
   ]
  },
  {
   "cell_type": "code",
   "execution_count": null,
   "id": "66d2c041-dee5-421b-8b2c-1bc6d34ee511",
   "metadata": {},
   "outputs": [],
   "source": [
    "#8-Decision Tree & GridSearchCV"
   ]
  },
  {
   "cell_type": "code",
   "execution_count": 39,
   "id": "62f92000-a3a0-4365-ba43-8a5094a7004d",
   "metadata": {},
   "outputs": [
    {
     "name": "stdout",
     "output_type": "stream",
     "text": [
      "Best Params: {'criterion': 'entropy', 'max_depth': 6, 'min_samples_leaf': 4}\n",
      "Best Score: 0.8714285714285713\n"
     ]
    }
   ],
   "source": [
    "parameters = {\n",
    "    'criterion': ['gini', 'entropy'],\n",
    "    'max_depth': [2, 4, 6, 8, 10],\n",
    "    'min_samples_leaf': [1, 2, 4]\n",
    "}\n",
    "tree_cv = GridSearchCV(DecisionTreeClassifier(), parameters, cv=10)\n",
    "tree_cv.fit(X_train, Y_train)\n",
    "print(\"Best Params:\", tree_cv.best_params_)\n",
    "print(\"Best Score:\", tree_cv.best_score_)\n"
   ]
  },
  {
   "cell_type": "code",
   "execution_count": null,
   "id": "61abae04-7b11-4d3f-a005-19e9c6857dc8",
   "metadata": {},
   "outputs": [],
   "source": [
    "#9-Decision Tree Accuracy"
   ]
  },
  {
   "cell_type": "code",
   "execution_count": 41,
   "id": "a234ce48-1c0f-4c8a-a005-b8ab426e5593",
   "metadata": {},
   "outputs": [
    {
     "name": "stdout",
     "output_type": "stream",
     "text": [
      "Test set score: 0.8333333333333334\n"
     ]
    },
    {
     "data": {
      "image/png": "[encoded data removed]",
      "text/plain": [
       "<Figure size 640x480 with 2 Axes>"
      ]
     },
     "metadata": {},
     "output_type": "display_data"
    }
   ],
   "source": [
    "print(\"Test set score:\", tree_cv.score(X_test, Y_test))\n",
    "yhat_tree = tree_cv.predict(X_test)\n",
    "plot_confusion_matrix(Y_test, yhat_tree)\n"
   ]
  },
  {
   "cell_type": "code",
   "execution_count": 43,
   "id": "826ea09c-7d36-4e6a-b9e0-55392cde419c",
   "metadata": {},
   "outputs": [],
   "source": [
    "#10-K-Nearest Neighbors & GridSearchCV"
   ]
  },
  {
   "cell_type": "code",
   "execution_count": 45,
   "id": "57bb6a69-b9a6-4da8-97d1-28a69c416fe5",
   "metadata": {},
   "outputs": [
    {
     "name": "stdout",
     "output_type": "stream",
     "text": [
      "Best Params: {'algorithm': 'auto', 'n_neighbors': 3}\n",
      "Best Score: 0.7785714285714285\n"
     ]
    }
   ],
   "source": [
    "parameters = {\n",
    "    'n_neighbors': [3, 5, 7, 9],\n",
    "    'algorithm': ['auto', 'ball_tree', 'kd_tree', 'brute']\n",
    "}\n",
    "knn_cv = GridSearchCV(KNeighborsClassifier(), parameters, cv=10)\n",
    "knn_cv.fit(X_train, Y_train)\n",
    "print(\"Best Params:\", knn_cv.best_params_)\n",
    "print(\"Best Score:\", knn_cv.best_score_)\n"
   ]
  },
  {
   "cell_type": "code",
   "execution_count": null,
   "id": "aa97d485-7e21-4b63-a082-e152fbc57559",
   "metadata": {},
   "outputs": [],
   "source": [
    "#11-KNN Accuracy"
   ]
  },
  {
   "cell_type": "code",
   "execution_count": 47,
   "id": "09792c81-b2c4-43c6-b5f4-4dc085fee1fc",
   "metadata": {},
   "outputs": [
    {
     "name": "stdout",
     "output_type": "stream",
     "text": [
      "Test set score: 0.7777777777777778\n"
     ]
    },
    {
     "data": {
      "image/png": "[encoded data removed]",
      "text/plain": [
       "<Figure size 640x480 with 2 Axes>"
      ]
     },
     "metadata": {},
     "output_type": "display_data"
    }
   ],
   "source": [
    "print(\"Test set score:\", knn_cv.score(X_test, Y_test))\n",
    "yhat_knn = knn_cv.predict(X_test)\n",
    "plot_confusion_matrix(Y_test, yhat_knn)\n"
   ]
  },
  {
   "cell_type": "code",
   "execution_count": 53,
   "id": "5d4d265b-3fd1-489e-904b-8f7fb2a8deeb",
   "metadata": {},
   "outputs": [],
   "source": [
    "#12- Find the Best Method"
   ]
  },
  {
   "cell_type": "markdown",
   "id": "9a8e4b3e-fd17-4d34-9bc9-2b72d639de55",
   "metadata": {},
   "source": [
    "### The best performing methods for predicting SpaceX Falcon 9 first stage landing success, based on this dataset and your testing, are Logistic Regression, SVM, and Decision Tree, all achieving a test accuracy of 83.33%. KNN performed slightly worse."
   ]
  },
  {
   "cell_type": "code",
   "execution_count": null,
   "id": "4450e3df-1f64-4b19-b2ea-92126af30e89",
   "metadata": {},
   "outputs": [],
   "source": []
  },
  {
   "cell_type": "code",
   "execution_count": null,
   "id": "1a7bb34e-5b58-46a3-bf1e-39ca9cbebdaa",
   "metadata": {},
   "outputs": [],
   "source": []
  },
  {
   "cell_type": "code",
   "execution_count": null,
   "id": "ac92736c-dbf6-45aa-a01f-1490d0be77ac",
   "metadata": {},
   "outputs": [],
   "source": []
  },
  {
   "cell_type": "code",
   "execution_count": null,
   "id": "43589f25-7923-4934-b828-ca68dfb737e7",
   "metadata": {},
   "outputs": [],
   "source": []
  },
  {
   "cell_type": "code",
   "execution_count": null,
   "id": "0bff30ec-9853-493e-85c3-5ec728c450a9",
   "metadata": {},
   "outputs": [],
   "source": []
  },
  {
   "cell_type": "code",
   "execution_count": null,
   "id": "e33ee185-f696-4ecd-ab48-b1decf703bfb",
   "metadata": {},
   "outputs": [],
   "source": []
  },
  {
   "cell_type": "code",
   "execution_count": null,
   "id": "0ba740e7-31e5-42ce-9b83-7b022b09de88",
   "metadata": {},
   "outputs": [],
   "source": []
  },
  {
   "cell_type": "code",
   "execution_count": null,
   "id": "b11173a1-9be8-4a4e-9221-ddff3c3752e2",
   "metadata": {},
   "outputs": [],
   "source": []
  }
 ],
 "metadata": {
  "kernelspec": {
   "display_name": "Python 3 (ipykernel)",
   "language": "python",
   "name": "python3"
  },
  "language_info": {
   "codemirror_mode": {
    "name": "ipython",
    "version": 3
   },
   "file_extension": ".py",
   "mimetype": "text/x-python",
   "name": "python",
   "nbconvert_exporter": "python",
   "pygments_lexer": "ipython3",
   "version": "3.12.4"
  }
 },
 "nbformat": 4,
 "nbformat_minor": 5
}
